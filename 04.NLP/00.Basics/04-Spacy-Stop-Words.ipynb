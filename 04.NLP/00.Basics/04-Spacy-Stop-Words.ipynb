{
 "cells": [
  {
   "cell_type": "code",
   "execution_count": 1,
   "metadata": {},
   "outputs": [],
   "source": [
    "import spacy"
   ]
  },
  {
   "cell_type": "code",
   "execution_count": 2,
   "metadata": {},
   "outputs": [],
   "source": [
    "nlp = spacy.load(\"en_core_web_sm\")"
   ]
  },
  {
   "cell_type": "code",
   "execution_count": 3,
   "metadata": {},
   "outputs": [
    {
     "name": "stdout",
     "output_type": "stream",
     "text": [
      "{'here', 'it', 'because', 'see', 'should', 'perhaps', 'of', 'twelve', 'no', 'across', 'often', 'your', 'give', 'hers', 'above', 'both', 'go', 'only', 'latter', 'whereas', 'anyway', 'bottom', 'put', 'or', 'regarding', 'within', 'forty', 'done', 'up', 'along', 'whither', 'some', 'call', 'such', 'get', 'so', 'they', 'keep', 'thereafter', 'six', 'everything', 'than', 'could', 'please', 'another', 'his', 'had', 'that', 'behind', 'does', 'before', 'wherein', 'themselves', 'every', 'almost', 'sometimes', 'then', 'full', 'is', 'rather', \"'s\", 'show', '‘d', 'below', 'eleven', 'not', 'whoever', 'yours', 'whatever', 'to', 'although', '’s', \"'re\", 'elsewhere', 'amongst', 'have', 'an', 'nine', 'seems', \"'m\", 'on', 'otherwise', 'this', 'been', 'part', 'hereafter', '’ve', 'might', 'used', 'them', 'must', 'once', 'do', 'any', 'due', 'somehow', 'always', 'also', 'be', 'there', 'anything', 'into', 'you', 'amount', 'fifteen', 'against', 'others', 'really', 'same', 'until', 'while', 'other', 'what', 'between', 'side', 'except', 'via', '‘m', 'without', 'now', \"n't\", 'herein', '‘re', 'further', 'wherever', 'sometime', 'own', 'made', 'nobody', 'two', 'thru', 'seemed', 'however', 'himself', 'anywhere', 'several', 'through', 'cannot', 'toward', 'namely', 'itself', 'say', 'why', 'seem', 'nowhere', 'using', '’m', 'may', 'latterly', 'which', 'their', 'its', 'my', 'twenty', 'out', 'already', 'with', \"'d\", 'eight', 'become', 'fifty', 'over', 'we', 'him', 'has', 'hereupon', 'were', 'at', 'during', 'the', 'after', 'around', 'empty', 'ours', 'whereupon', 'did', 'never', 'moreover', 'ten', 'none', 'becoming', 'whom', 'onto', 'was', 'else', 'anyhow', 'can', 'off', 'still', 'hundred', 'nor', 'each', 'enough', 'as', 'whereby', '‘s', 'most', 'became', 'if', 'therefore', 'where', 'quite', 'three', 'therein', 'herself', 'under', 'together', 'me', 'beforehand', '’ll', 'various', 'throughout', 'becomes', 'many', '‘ll', 'mine', 'thence', 'those', '‘ve', 'former', 'thereupon', 'whereafter', 'someone', 'her', 'nevertheless', 'among', 'down', 'these', 'much', 'back', 'whether', 'last', 'serious', \"'ll\", 'hereby', 'something', 'towards', 'ca', 'five', 'but', 'how', 'ourselves', 'doing', 'make', 'neither', 'yourselves', 'anyone', 'beyond', 'next', 'more', 'somewhere', 'thus', 'and', \"'ve\", 'everywhere', 'would', 'too', 'n’t', '’re', 'everyone', 'am', 'our', 'about', 'for', 'beside', 'yet', 'take', 'meanwhile', 'less', 'front', 'since', 'n‘t', 'indeed', 'very', 'least', 'afterwards', 'in', 'top', 'upon', 'whence', 'thereby', 'myself', 'he', 'whose', 'well', 'yourself', 'whenever', 'first', '’d', 'she', 'i', 'from', 'unless', 're', 'are', 'move', 'just', 'name', 'us', 'either', 'four', 'nothing', 'though', 'seeming', 'few', 'third', 'again', 'when', 'by', 'alone', 'whole', 'one', 'being', 'hence', 'will', 'even', 'formerly', 'sixty', 'besides', 'per', 'who', 'a', 'noone', 'ever', 'all', 'mostly'}\n"
     ]
    }
   ],
   "source": [
    "print(nlp.Defaults.stop_words)"
   ]
  },
  {
   "cell_type": "code",
   "execution_count": 4,
   "metadata": {},
   "outputs": [
    {
     "data": {
      "text/plain": [
       "326"
      ]
     },
     "execution_count": 4,
     "metadata": {},
     "output_type": "execute_result"
    }
   ],
   "source": [
    "len(nlp.Defaults.stop_words)"
   ]
  },
  {
   "cell_type": "code",
   "execution_count": 6,
   "metadata": {},
   "outputs": [
    {
     "data": {
      "text/plain": [
       "True"
      ]
     },
     "execution_count": 6,
     "metadata": {},
     "output_type": "execute_result"
    }
   ],
   "source": [
    "nlp.vocab['is'].is_stop"
   ]
  },
  {
   "cell_type": "code",
   "execution_count": 7,
   "metadata": {},
   "outputs": [
    {
     "data": {
      "text/plain": [
       "False"
      ]
     },
     "execution_count": 7,
     "metadata": {},
     "output_type": "execute_result"
    }
   ],
   "source": [
    "nlp.vocab['mystery'].is_stop"
   ]
  },
  {
   "cell_type": "code",
   "execution_count": 8,
   "metadata": {},
   "outputs": [],
   "source": [
    "nlp.Defaults.stop_words.add('btw')"
   ]
  },
  {
   "cell_type": "code",
   "execution_count": 9,
   "metadata": {},
   "outputs": [
    {
     "data": {
      "text/plain": [
       "True"
      ]
     },
     "execution_count": 9,
     "metadata": {},
     "output_type": "execute_result"
    }
   ],
   "source": [
    "nlp.vocab[\"btw\"].is_stop"
   ]
  },
  {
   "cell_type": "code",
   "execution_count": 10,
   "metadata": {},
   "outputs": [
    {
     "data": {
      "text/plain": [
       "327"
      ]
     },
     "execution_count": 10,
     "metadata": {},
     "output_type": "execute_result"
    }
   ],
   "source": [
    "len(nlp.Defaults.stop_words)"
   ]
  },
  {
   "cell_type": "code",
   "execution_count": 11,
   "metadata": {},
   "outputs": [],
   "source": [
    "nlp.Defaults.stop_words.remove('beyond')"
   ]
  },
  {
   "cell_type": "code",
   "execution_count": 12,
   "metadata": {},
   "outputs": [
    {
     "data": {
      "text/plain": [
       "False"
      ]
     },
     "execution_count": 12,
     "metadata": {},
     "output_type": "execute_result"
    }
   ],
   "source": [
    "nlp.vocab[\"beyond\"].is_stop"
   ]
  }
 ],
 "metadata": {
  "kernelspec": {
   "display_name": "Python 3",
   "language": "python",
   "name": "python3"
  },
  "language_info": {
   "codemirror_mode": {
    "name": "ipython",
    "version": 3
   },
   "file_extension": ".py",
   "mimetype": "text/x-python",
   "name": "python",
   "nbconvert_exporter": "python",
   "pygments_lexer": "ipython3",
   "version": "3.12.9"
  }
 },
 "nbformat": 4,
 "nbformat_minor": 2
}
