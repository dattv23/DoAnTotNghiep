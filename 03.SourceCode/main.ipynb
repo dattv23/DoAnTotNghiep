{
 "cells": [
  {
   "cell_type": "markdown",
   "metadata": {},
   "source": [
    "Prepare "
   ]
  },
  {
   "cell_type": "code",
   "execution_count": null,
   "metadata": {},
   "outputs": [],
   "source": [
    "import string\n",
    "\n",
    "# Convert comment to a full sentence\n",
    "def convert_teencode_to_vietnamese(sentence, dictionary):\n",
    "    words = sentence.split()\n",
    "    converted_words = []\n",
    "    for word in words:\n",
    "        if word in dictionary:\n",
    "            converted_words.append(dictionary[word])\n",
    "            continue\n",
    "\n",
    "        punctuation = \"\"\n",
    "        temp_word = word\n",
    "        while temp_word and temp_word[-1] in string.punctuation:\n",
    "            punctuation = temp_word[-1] + punctuation\n",
    "            temp_word = temp_word[:-1]\n",
    "        if temp_word in dictionary:\n",
    "            converted_words.append(dictionary[temp_word] + punctuation)\n",
    "            continue\n",
    "\n",
    "        leading_punctuation = \"\"\n",
    "        temp_word = word\n",
    "        while temp_word and temp_word[0] in string.punctuation:\n",
    "            leading_punctuation += temp_word[0]\n",
    "            temp_word = temp_word[1:]\n",
    "        if temp_word in dictionary:\n",
    "            converted_words.append(leading_punctuation + dictionary[temp_word])\n",
    "            continue\n",
    "\n",
    "        converted_words.append(word)\n",
    "\n",
    "    return \" \".join(converted_words)"
   ]
  },
  {
   "cell_type": "code",
   "execution_count": 13,
   "metadata": {},
   "outputs": [
    {
     "name": "stdout",
     "output_type": "stream",
     "text": [
      "Câu sau khi chuyển đổi: hôm nay chúng ta đi đâu?\n"
     ]
    }
   ],
   "source": [
    "import csv\n",
    "\n",
    "dictionary = {}\n",
    "with open(\"C:\\\\Users\\\\LT64\\\\Desktop\\\\DoAnTotNghiep\\\\02.Dataset\\\\teencode.csv\", mode='r', encoding='utf-8') as file:\n",
    "    reader = csv.DictReader(file)\n",
    "    for row in reader:\n",
    "        dictionary[row['Teencode']] = row['Meaning']\n",
    "\n",
    "sentence = \"hôm nay cta đi đâu?\"\n",
    "\n",
    "converted_sentence = convert_teencode_to_vietnamese(sentence, dictionary)\n",
    "\n",
    "print(\"Câu sau khi chuyển đổi:\", converted_sentence)"
   ]
  }
 ],
 "metadata": {
  "kernelspec": {
   "display_name": "Python 3",
   "language": "python",
   "name": "python3"
  },
  "language_info": {
   "codemirror_mode": {
    "name": "ipython",
    "version": 3
   },
   "file_extension": ".py",
   "mimetype": "text/x-python",
   "name": "python",
   "nbconvert_exporter": "python",
   "pygments_lexer": "ipython3",
   "version": "3.13.1"
  }
 },
 "nbformat": 4,
 "nbformat_minor": 2
}
