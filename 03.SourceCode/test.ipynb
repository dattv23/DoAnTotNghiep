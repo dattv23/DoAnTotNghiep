{
 "cells": [
  {
   "cell_type": "code",
   "execution_count": 5,
   "id": "5aa54377",
   "metadata": {},
   "outputs": [
    {
     "name": "stdout",
     "output_type": "stream",
     "text": [
      "Hôm nay trời đẹp quá! cười\n"
     ]
    }
   ],
   "source": [
    "from text_processor import TextProcessor\n",
    "\n",
    "processor = TextProcessor()\n",
    "sample_text = \"Hôm nay trời đẹp quá! 😊\"\n",
    "print(processor.replace_emoji_to_text(sample_text))"
   ]
  },
  {
   "cell_type": "code",
   "execution_count": null,
   "id": "447679da",
   "metadata": {},
   "outputs": [],
   "source": []
  }
 ],
 "metadata": {
  "kernelspec": {
   "display_name": "Python 3",
   "language": "python",
   "name": "python3"
  },
  "language_info": {
   "codemirror_mode": {
    "name": "ipython",
    "version": 3
   },
   "file_extension": ".py",
   "mimetype": "text/x-python",
   "name": "python",
   "nbconvert_exporter": "python",
   "pygments_lexer": "ipython3",
   "version": "3.10.11"
  }
 },
 "nbformat": 4,
 "nbformat_minor": 5
}
