{
 "cells": [
  {
   "cell_type": "markdown",
   "id": "f4c7e6fc",
   "metadata": {},
   "source": [
    "### Step 1: Prepare the data"
   ]
  },
  {
   "cell_type": "code",
   "execution_count": 2,
   "id": "02d94069",
   "metadata": {},
   "outputs": [],
   "source": [
    "import pandas as pd\n",
    "import numpy as np"
   ]
  },
  {
   "cell_type": "code",
   "execution_count": 3,
   "id": "69765121",
   "metadata": {},
   "outputs": [],
   "source": [
    "df = pd.read_csv('../02.Dataset/reviews.csv')"
   ]
  },
  {
   "cell_type": "code",
   "execution_count": 3,
   "id": "9df8d266",
   "metadata": {},
   "outputs": [],
   "source": [
    "df.dropna(inplace=True)\n",
    "df.drop(columns='CustomerName', inplace=True)\n",
    "df['CustomerID'] = df['CustomerID'].astype(int)\n",
    "df.reset_index(drop=True, inplace=True)"
   ]
  },
  {
   "cell_type": "code",
   "execution_count": 4,
   "id": "cc2c5536",
   "metadata": {},
   "outputs": [],
   "source": [
    "df.to_csv(\"../02.Dataset/reviews.csv\")"
   ]
  },
  {
   "cell_type": "code",
   "execution_count": 4,
   "id": "41862dc8",
   "metadata": {},
   "outputs": [
    {
     "data": {
      "text/html": [
       "<div>\n",
       "<style scoped>\n",
       "    .dataframe tbody tr th:only-of-type {\n",
       "        vertical-align: middle;\n",
       "    }\n",
       "\n",
       "    .dataframe tbody tr th {\n",
       "        vertical-align: top;\n",
       "    }\n",
       "\n",
       "    .dataframe thead th {\n",
       "        text-align: right;\n",
       "    }\n",
       "</style>\n",
       "<table border=\"1\" class=\"dataframe\">\n",
       "  <thead>\n",
       "    <tr style=\"text-align: right;\">\n",
       "      <th></th>\n",
       "      <th>Unnamed: 0</th>\n",
       "      <th>ProductID</th>\n",
       "      <th>CustomerID</th>\n",
       "      <th>Rating</th>\n",
       "      <th>Comment</th>\n",
       "    </tr>\n",
       "  </thead>\n",
       "  <tbody>\n",
       "    <tr>\n",
       "      <th>0</th>\n",
       "      <td>0</td>\n",
       "      <td>192733741</td>\n",
       "      <td>18387707</td>\n",
       "      <td>5</td>\n",
       "      <td>Nội dung hấp dẫn lôi cuốn người đọc. Bố cục rõ...</td>\n",
       "    </tr>\n",
       "    <tr>\n",
       "      <th>1</th>\n",
       "      <td>1</td>\n",
       "      <td>192733741</td>\n",
       "      <td>14177076</td>\n",
       "      <td>5</td>\n",
       "      <td>Than moi THANH den nhan QUA va tham gia Hoi Sa...</td>\n",
       "    </tr>\n",
       "    <tr>\n",
       "      <th>2</th>\n",
       "      <td>2</td>\n",
       "      <td>192733741</td>\n",
       "      <td>27497576</td>\n",
       "      <td>3</td>\n",
       "      <td>không có bọc kín,buồn. Góc trên bìa sách bị th...</td>\n",
       "    </tr>\n",
       "    <tr>\n",
       "      <th>3</th>\n",
       "      <td>3</td>\n",
       "      <td>192733741</td>\n",
       "      <td>22009546</td>\n",
       "      <td>4</td>\n",
       "      <td>Giao hàng nhanh chóng, buổi tối đặt và trưa hô...</td>\n",
       "    </tr>\n",
       "    <tr>\n",
       "      <th>4</th>\n",
       "      <td>4</td>\n",
       "      <td>192733741</td>\n",
       "      <td>7426060</td>\n",
       "      <td>5</td>\n",
       "      <td>bản này bìa nhìn đẹp hơn bản cũ, nội dung hay....</td>\n",
       "    </tr>\n",
       "    <tr>\n",
       "      <th>5</th>\n",
       "      <td>5</td>\n",
       "      <td>192733741</td>\n",
       "      <td>26572209</td>\n",
       "      <td>5</td>\n",
       "      <td>Mười điểm _x000D_\\nKhâu đóng gói vẫn chưa chắc...</td>\n",
       "    </tr>\n",
       "    <tr>\n",
       "      <th>6</th>\n",
       "      <td>6</td>\n",
       "      <td>192733741</td>\n",
       "      <td>20882294</td>\n",
       "      <td>5</td>\n",
       "      <td>Tái bản bìa này mới mua, chứ bìa cũ nhìn chán ...</td>\n",
       "    </tr>\n",
       "    <tr>\n",
       "      <th>7</th>\n",
       "      <td>7</td>\n",
       "      <td>192733741</td>\n",
       "      <td>10607102</td>\n",
       "      <td>5</td>\n",
       "      <td>Thiết kế bìa mới đẹp, mình nghe nói nội dung h...</td>\n",
       "    </tr>\n",
       "    <tr>\n",
       "      <th>8</th>\n",
       "      <td>8</td>\n",
       "      <td>192733741</td>\n",
       "      <td>21647349</td>\n",
       "      <td>5</td>\n",
       "      <td>Bìa siêu đẹp, tiki thì giao hàng nhanh ổn rùi,...</td>\n",
       "    </tr>\n",
       "    <tr>\n",
       "      <th>9</th>\n",
       "      <td>9</td>\n",
       "      <td>192733741</td>\n",
       "      <td>7525460</td>\n",
       "      <td>5</td>\n",
       "      <td>Chất lượng giấy và mực in tốt,thiết kế bìa đẹp...</td>\n",
       "    </tr>\n",
       "  </tbody>\n",
       "</table>\n",
       "</div>"
      ],
      "text/plain": [
       "   Unnamed: 0  ProductID  CustomerID  Rating  \\\n",
       "0           0  192733741    18387707       5   \n",
       "1           1  192733741    14177076       5   \n",
       "2           2  192733741    27497576       3   \n",
       "3           3  192733741    22009546       4   \n",
       "4           4  192733741     7426060       5   \n",
       "5           5  192733741    26572209       5   \n",
       "6           6  192733741    20882294       5   \n",
       "7           7  192733741    10607102       5   \n",
       "8           8  192733741    21647349       5   \n",
       "9           9  192733741     7525460       5   \n",
       "\n",
       "                                             Comment  \n",
       "0  Nội dung hấp dẫn lôi cuốn người đọc. Bố cục rõ...  \n",
       "1  Than moi THANH den nhan QUA va tham gia Hoi Sa...  \n",
       "2  không có bọc kín,buồn. Góc trên bìa sách bị th...  \n",
       "3  Giao hàng nhanh chóng, buổi tối đặt và trưa hô...  \n",
       "4  bản này bìa nhìn đẹp hơn bản cũ, nội dung hay....  \n",
       "5  Mười điểm _x000D_\\nKhâu đóng gói vẫn chưa chắc...  \n",
       "6  Tái bản bìa này mới mua, chứ bìa cũ nhìn chán ...  \n",
       "7  Thiết kế bìa mới đẹp, mình nghe nói nội dung h...  \n",
       "8  Bìa siêu đẹp, tiki thì giao hàng nhanh ổn rùi,...  \n",
       "9  Chất lượng giấy và mực in tốt,thiết kế bìa đẹp...  "
      ]
     },
     "execution_count": 4,
     "metadata": {},
     "output_type": "execute_result"
    }
   ],
   "source": [
    "df.head(10)"
   ]
  },
  {
   "cell_type": "code",
   "execution_count": 6,
   "id": "e77fdc5e",
   "metadata": {},
   "outputs": [
    {
     "data": {
      "text/plain": [
       "Rating\n",
       "5    30816\n",
       "4     3744\n",
       "3     1439\n",
       "1     1060\n",
       "2      706\n",
       "Name: count, dtype: int64"
      ]
     },
     "execution_count": 6,
     "metadata": {},
     "output_type": "execute_result"
    }
   ],
   "source": [
    "df['Rating'].value_counts()"
   ]
  },
  {
   "cell_type": "code",
   "execution_count": null,
   "id": "ac72e53f",
   "metadata": {},
   "outputs": [
    {
     "data": {
      "text/plain": [
       "Rating\n",
       "5    4000\n",
       "4    3744\n",
       "3    1439\n",
       "1    1060\n",
       "2     706\n",
       "Name: count, dtype: int64"
      ]
     },
     "execution_count": 10,
     "metadata": {},
     "output_type": "execute_result"
    }
   ],
   "source": [
    "# Get sample data for labeling\n",
    "df_1_to_4 = df[df[\"Rating\"].isin([1, 2, 3, 4])]\n",
    "df_5_sample = df[df[\"Rating\"] == 5].sample(n=4000, random_state=42)\n",
    "df_combined = pd.concat([df_1_to_4, df_5_sample])\n",
    "df_combined = df.drop(columns=0)\n",
    "df_combined.to_csv(\"../02.Dataset/ratings_filtered.csv\", index=False)\n",
    "df_combined[\"Rating\"].value_counts()"
   ]
  },
  {
   "cell_type": "code",
   "execution_count": 49,
   "id": "92425781",
   "metadata": {},
   "outputs": [],
   "source": [
    "df_reviews_filtered = pd.read_csv(\"../02.Dataset/reviews_filtered.csv\")\n",
    "df_reviews_filtered = df_reviews_filtered.drop(columns=\"Unnamed: 0\")\n",
    "df_reviews_filtered.head(10)\n",
    "df_reviews_filtered.to_csv(\"../02.Dataset/reviews_filtered.csv\")"
   ]
  },
  {
   "cell_type": "code",
   "execution_count": 67,
   "id": "4dde1341",
   "metadata": {},
   "outputs": [
    {
     "data": {
      "text/plain": [
       "Rating\n",
       "5    4000\n",
       "4    3744\n",
       "3    1439\n",
       "1    1060\n",
       "2     706\n",
       "Name: count, dtype: int64"
      ]
     },
     "execution_count": 67,
     "metadata": {},
     "output_type": "execute_result"
    }
   ],
   "source": [
    "df_reviews_filtered['Rating'].value_counts()"
   ]
  },
  {
   "cell_type": "code",
   "execution_count": 47,
   "id": "60f3f5e7",
   "metadata": {},
   "outputs": [],
   "source": [
    "df_reviews_labeled = pd.read_csv('../02.Dataset/reviews-labeled.csv')"
   ]
  },
  {
   "cell_type": "code",
   "execution_count": 48,
   "id": "75a40ebc",
   "metadata": {},
   "outputs": [
    {
     "data": {
      "text/html": [
       "<div>\n",
       "<style scoped>\n",
       "    .dataframe tbody tr th:only-of-type {\n",
       "        vertical-align: middle;\n",
       "    }\n",
       "\n",
       "    .dataframe tbody tr th {\n",
       "        vertical-align: top;\n",
       "    }\n",
       "\n",
       "    .dataframe thead th {\n",
       "        text-align: right;\n",
       "    }\n",
       "</style>\n",
       "<table border=\"1\" class=\"dataframe\">\n",
       "  <thead>\n",
       "    <tr style=\"text-align: right;\">\n",
       "      <th></th>\n",
       "      <th>ProductID</th>\n",
       "      <th>CustomerID</th>\n",
       "      <th>Rating</th>\n",
       "      <th>Comment</th>\n",
       "      <th>Label</th>\n",
       "    </tr>\n",
       "  </thead>\n",
       "  <tbody>\n",
       "    <tr>\n",
       "      <th>0</th>\n",
       "      <td>192733741</td>\n",
       "      <td>27497576</td>\n",
       "      <td>3</td>\n",
       "      <td>không có bọc kín,buồn. Góc trên bìa sách bị th...</td>\n",
       "      <td>neg</td>\n",
       "    </tr>\n",
       "    <tr>\n",
       "      <th>1</th>\n",
       "      <td>192733741</td>\n",
       "      <td>22009546</td>\n",
       "      <td>4</td>\n",
       "      <td>Giao hàng nhanh chóng, buổi tối đặt và trưa hô...</td>\n",
       "      <td>pos</td>\n",
       "    </tr>\n",
       "    <tr>\n",
       "      <th>2</th>\n",
       "      <td>187827390</td>\n",
       "      <td>28134396</td>\n",
       "      <td>4</td>\n",
       "      <td>Đóng gói cẩn thận, hợp lý nhưng giao hàng lâu.</td>\n",
       "      <td>neu</td>\n",
       "    </tr>\n",
       "    <tr>\n",
       "      <th>3</th>\n",
       "      <td>187827390</td>\n",
       "      <td>28073417</td>\n",
       "      <td>4</td>\n",
       "      <td>Hay, ý nghĩa, nhưng đóng gói hàng ko quá miếng...</td>\n",
       "      <td>neg</td>\n",
       "    </tr>\n",
       "    <tr>\n",
       "      <th>4</th>\n",
       "      <td>187827390</td>\n",
       "      <td>20604776</td>\n",
       "      <td>3</td>\n",
       "      <td>bị ướt một góc nhỏ, hơi đau 1 tí ;-;</td>\n",
       "      <td>neg</td>\n",
       "    </tr>\n",
       "    <tr>\n",
       "      <th>...</th>\n",
       "      <td>...</td>\n",
       "      <td>...</td>\n",
       "      <td>...</td>\n",
       "      <td>...</td>\n",
       "      <td>...</td>\n",
       "    </tr>\n",
       "    <tr>\n",
       "      <th>1735</th>\n",
       "      <td>52789367</td>\n",
       "      <td>11476775</td>\n",
       "      <td>4</td>\n",
       "      <td>Tiki giao hàng nhanh và chất lượng sách tốt, t...</td>\n",
       "      <td>neg</td>\n",
       "    </tr>\n",
       "    <tr>\n",
       "      <th>1736</th>\n",
       "      <td>52789367</td>\n",
       "      <td>26134286</td>\n",
       "      <td>2</td>\n",
       "      <td>Hàng giao nhanh nhưng hộp bị nát , sách bên tr...</td>\n",
       "      <td>neg</td>\n",
       "    </tr>\n",
       "    <tr>\n",
       "      <th>1737</th>\n",
       "      <td>52789367</td>\n",
       "      <td>7493207</td>\n",
       "      <td>4</td>\n",
       "      <td>OK 👍 OK 👍 OK 👍</td>\n",
       "      <td>pos</td>\n",
       "    </tr>\n",
       "    <tr>\n",
       "      <th>1738</th>\n",
       "      <td>52789367</td>\n",
       "      <td>12717106</td>\n",
       "      <td>1</td>\n",
       "      <td>bị bóc seal :) thất vọng lắm</td>\n",
       "      <td>neg</td>\n",
       "    </tr>\n",
       "    <tr>\n",
       "      <th>1739</th>\n",
       "      <td>52789367</td>\n",
       "      <td>22643487</td>\n",
       "      <td>4</td>\n",
       "      <td>sách giao nhanh,giấy in đẹp..ko trình bày bìa ...</td>\n",
       "      <td>neu</td>\n",
       "    </tr>\n",
       "  </tbody>\n",
       "</table>\n",
       "<p>1740 rows × 5 columns</p>\n",
       "</div>"
      ],
      "text/plain": [
       "      ProductID  CustomerID  Rating  \\\n",
       "0     192733741    27497576       3   \n",
       "1     192733741    22009546       4   \n",
       "2     187827390    28134396       4   \n",
       "3     187827390    28073417       4   \n",
       "4     187827390    20604776       3   \n",
       "...         ...         ...     ...   \n",
       "1735   52789367    11476775       4   \n",
       "1736   52789367    26134286       2   \n",
       "1737   52789367     7493207       4   \n",
       "1738   52789367    12717106       1   \n",
       "1739   52789367    22643487       4   \n",
       "\n",
       "                                                Comment Label  \n",
       "0     không có bọc kín,buồn. Góc trên bìa sách bị th...   neg  \n",
       "1     Giao hàng nhanh chóng, buổi tối đặt và trưa hô...   pos  \n",
       "2        Đóng gói cẩn thận, hợp lý nhưng giao hàng lâu.   neu  \n",
       "3     Hay, ý nghĩa, nhưng đóng gói hàng ko quá miếng...   neg  \n",
       "4                  bị ướt một góc nhỏ, hơi đau 1 tí ;-;   neg  \n",
       "...                                                 ...   ...  \n",
       "1735  Tiki giao hàng nhanh và chất lượng sách tốt, t...   neg  \n",
       "1736  Hàng giao nhanh nhưng hộp bị nát , sách bên tr...   neg  \n",
       "1737                                     OK 👍 OK 👍 OK 👍   pos  \n",
       "1738                       bị bóc seal :) thất vọng lắm   neg  \n",
       "1739  sách giao nhanh,giấy in đẹp..ko trình bày bìa ...   neu  \n",
       "\n",
       "[1740 rows x 5 columns]"
      ]
     },
     "execution_count": 48,
     "metadata": {},
     "output_type": "execute_result"
    }
   ],
   "source": [
    "df_reviews_labeled = df_reviews_labeled.drop_duplicates()\n",
    "df_reviews_labeled.reset_index(drop=True)"
   ]
  },
  {
   "cell_type": "code",
   "execution_count": 49,
   "id": "48d529b6",
   "metadata": {},
   "outputs": [
    {
     "data": {
      "text/plain": [
       "Label\n",
       "neg    728\n",
       "​      563\n",
       "pos    229\n",
       "neu    220\n",
       "Name: count, dtype: int64"
      ]
     },
     "execution_count": 49,
     "metadata": {},
     "output_type": "execute_result"
    }
   ],
   "source": [
    "df_reviews_labeled['Label'].value_counts()\n",
    "# print(df_reviews_labeled[\"Label\"].unique())"
   ]
  },
  {
   "cell_type": "code",
   "execution_count": 43,
   "id": "20823515",
   "metadata": {},
   "outputs": [
    {
     "name": "stdout",
     "output_type": "stream",
     "text": [
      "[95, 280, 281, 282, 283, 284, 285, 286, 287, 288, 289, 290, 291, 292, 293, 294, 295, 296, 297, 298, 299, 300, 301, 302, 303, 304, 305, 306, 307, 308, 309, 310, 311, 312, 313, 314, 315, 316, 317, 318, 319, 320, 321, 322, 323, 324, 325, 326, 327, 328, 329, 330, 331, 332, 333, 334, 335, 336, 337, 338, 339, 340, 341, 342, 343, 344, 345, 346, 347, 348, 349, 510, 511, 591, 603, 630, 631, 632, 633, 634, 635, 636, 637, 638, 639, 640, 641, 642, 643, 644, 645, 646, 647, 648, 649, 650, 651, 652, 653, 654, 655, 656, 657, 658, 659, 660, 661, 662, 663, 664, 665, 666, 667, 668, 669, 670, 671, 672, 673, 674, 675, 676, 677, 678, 679, 680, 681, 682, 683, 684, 685, 686, 687, 688, 689, 690, 691, 692, 693, 694, 695, 696, 697, 698, 699, 700, 701, 702, 703, 704, 705, 706, 707, 708, 709, 710, 711, 712, 713, 714, 715, 716, 717, 718, 719, 720, 721, 722, 723, 724, 725, 726, 727, 728, 729, 730, 731, 732, 733, 734, 735, 736, 737, 738, 739, 740, 741, 742, 743, 744, 745, 746, 747, 748, 749, 750, 751, 752, 753, 754, 755, 756, 757, 758, 759, 760, 761, 762, 763, 764, 765, 766, 767, 768, 769, 770, 771, 772, 773, 774, 775, 776, 777, 778, 779, 780, 781, 782, 783, 784, 785, 786, 787, 788, 789, 790, 791, 792, 793, 794, 795, 796, 797, 798, 799, 800, 801, 802, 803, 804, 805, 806, 807, 808, 809, 810, 811, 812, 813, 814, 815, 816, 817, 818, 819, 872, 877, 878, 1083, 1084, 1085, 1086, 1087, 1088, 1089, 1090, 1091, 1092, 1093, 1094, 1095, 1096, 1097, 1098, 1099, 1100, 1101, 1102, 1103, 1104, 1105, 1106, 1107, 1108, 1109, 1110, 1111, 1112, 1113, 1114, 1115, 1116, 1117, 1118, 1119, 1120, 1121, 1122, 1123, 1124, 1125, 1126, 1127, 1128, 1129, 1130, 1131, 1132, 1133, 1134, 1135, 1136, 1137, 1138, 1139, 1140, 1141, 1142, 1143, 1144, 1145, 1146, 1147, 1148, 1149, 1150, 1151, 1152, 1153, 1154, 1155, 1156, 1157, 1158, 1159, 1160, 1161, 1162, 1163, 1164, 1165, 1166, 1167, 1168, 1169, 1170, 1171, 1172, 1173, 1174, 1175, 1176, 1177, 1178, 1179, 1180, 1438, 1439, 1440, 1441, 1442, 1443, 1444, 1445, 1446, 1447, 1448, 1449, 1450, 1451, 1452, 1453, 1454, 1455, 1456, 1457, 1458, 1459, 1460, 1461, 1462, 1463, 1464, 1465, 1466, 1467, 1468, 1469, 1470, 1471, 1472, 1473, 1474, 1475, 1476, 1477, 1478, 1479, 1480, 1481, 1482, 1483, 1484, 1485, 1486, 1487, 1488, 1489, 1490, 1491, 1492, 1493, 1494, 1495, 1496, 1497, 1498, 1499, 1500, 1501, 1502, 1503, 1504, 1505, 1506, 1507, 1508, 1509, 1510, 1511, 1512, 1513, 1514, 1515, 1516, 1517, 1518, 1519, 1520, 1521, 1522, 1523, 1524, 1525, 1526, 1527, 1528, 1529, 1530, 1531, 1532, 1533, 1534, 1535, 1536, 1537, 1538, 1539, 1540, 1541, 1542, 1543, 1544, 1545, 1546, 1547, 1548, 1549, 1550, 1551, 1552, 1553, 1554, 1555, 1556, 1557, 1558, 1559, 1560, 1561, 1562, 1563, 1564, 1565, 1566, 1567, 1568, 1569, 1570, 1571, 1572, 1573, 1574, 1575, 1576, 1577, 1578, 1579, 1580, 1581, 1582, 1583, 1584, 1585, 1586, 1587, 1588, 1589, 1590, 1591, 1592, 1593, 1594, 1595, 1596, 1597, 1598, 1599, 1600, 1601, 1602, 1603, 1604, 1605, 1606, 1607, 1608, 1609, 1610, 1611, 1612, 1613, 1614, 1615, 1616, 1617, 1618, 1619, 1620, 1621, 1622, 1623, 1624, 1625, 1626, 1627, 1628, 1629, 1630, 1631, 1632, 1633, 1716]\n"
     ]
    }
   ],
   "source": [
    "empties = []\n",
    "\n",
    "for i, p_ID, c_ID, rating, comment, label in df_reviews_labeled.itertuples():\n",
    "    if label == \"\\u200b\":\n",
    "        empties.append(i)\n",
    "        \n",
    "print(empties)"
   ]
  },
  {
   "cell_type": "code",
   "execution_count": 50,
   "id": "726740e1",
   "metadata": {},
   "outputs": [
    {
     "name": "stdout",
     "output_type": "stream",
     "text": [
      "Label\n",
      "neg    728\n",
      "pos    229\n",
      "neu    220\n",
      "Name: count, dtype: int64\n"
     ]
    }
   ],
   "source": [
    "df_reviews_labeled.drop(empties, inplace=True)\n",
    "print(df_reviews_labeled[\"Label\"].value_counts())"
   ]
  },
  {
   "cell_type": "code",
   "execution_count": 51,
   "id": "13c849bc",
   "metadata": {},
   "outputs": [],
   "source": [
    "df_reviews_labeled.reset_index(drop=True)\n",
    "df_reviews_labeled.to_csv(\"../02.Dataset/reviews_labeled.csv\", index=False)"
   ]
  }
 ],
 "metadata": {
  "kernelspec": {
   "display_name": "py3.10.6",
   "language": "python",
   "name": "python3"
  },
  "language_info": {
   "codemirror_mode": {
    "name": "ipython",
    "version": 3
   },
   "file_extension": ".py",
   "mimetype": "text/x-python",
   "name": "python",
   "nbconvert_exporter": "python",
   "pygments_lexer": "ipython3",
   "version": "3.10.17"
  }
 },
 "nbformat": 4,
 "nbformat_minor": 5
}
