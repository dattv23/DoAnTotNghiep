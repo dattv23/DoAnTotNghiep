{
 "cells": [
  {
   "cell_type": "markdown",
   "metadata": {},
   "source": [
    "### Convert excel to csv file"
   ]
  },
  {
   "cell_type": "code",
   "execution_count": 35,
   "metadata": {},
   "outputs": [],
   "source": [
    "import pandas as pd\n",
    "\n",
    "reviews_4stars = pd.read_excel(\n",
    "    \"../02.Dataset/labeled/reviews_4stars.xlsx\", sheet_name=\"Sheet1\"\n",
    ")\n",
    "reviews_3stars = pd.read_excel(\n",
    "    \"../02.Dataset/labeled/reviews_3stars.xlsx\", sheet_name=\"Sheet1\"\n",
    ")\n",
    "\n",
    "reviews_4stars.to_csv(\"../02.Dataset/labeled/reviews_4stars.csv\", index=False)\n",
    "reviews_4stars.to_csv(\"../02.Dataset/labeled/reviews_3stars.csv\", index=False)"
   ]
  },
  {
   "cell_type": "markdown",
   "metadata": {},
   "source": [
    "### Prepare the dataset"
   ]
  },
  {
   "cell_type": "code",
   "execution_count": 6,
   "metadata": {},
   "outputs": [],
   "source": [
    "import pandas as pd"
   ]
  },
  {
   "cell_type": "code",
   "execution_count": 7,
   "metadata": {},
   "outputs": [],
   "source": [
    "reviews = pd.read_csv('../02.Dataset/reviews.csv')"
   ]
  },
  {
   "cell_type": "code",
   "execution_count": 8,
   "metadata": {},
   "outputs": [],
   "source": [
    "# Drop the 'Unnamed: 0' column if it exists\n",
    "if 'Unnamed: 0' in reviews.columns:\n",
    "    reviews.drop(columns=['Unnamed: 0'], inplace=True)"
   ]
  },
  {
   "cell_type": "code",
   "execution_count": 9,
   "metadata": {},
   "outputs": [
    {
     "data": {
      "text/plain": [
       "np.int64(0)"
      ]
     },
     "execution_count": 9,
     "metadata": {},
     "output_type": "execute_result"
    }
   ],
   "source": [
    "reviews['Comment'].isna().sum()  # Check for missing values in 'Comment' column"
   ]
  },
  {
   "cell_type": "code",
   "execution_count": 10,
   "metadata": {},
   "outputs": [
    {
     "data": {
      "text/plain": [
       "Rating\n",
       "5    30816\n",
       "4     3744\n",
       "3     1439\n",
       "1     1060\n",
       "2      706\n",
       "Name: count, dtype: int64"
      ]
     },
     "execution_count": 10,
     "metadata": {},
     "output_type": "execute_result"
    }
   ],
   "source": [
    "reviews['Rating'].value_counts()"
   ]
  },
  {
   "cell_type": "code",
   "execution_count": 11,
   "metadata": {},
   "outputs": [
    {
     "name": "stdout",
     "output_type": "stream",
     "text": [
      "<class 'pandas.core.frame.DataFrame'>\n",
      "RangeIndex: 37765 entries, 0 to 37764\n",
      "Data columns (total 4 columns):\n",
      " #   Column      Non-Null Count  Dtype \n",
      "---  ------      --------------  ----- \n",
      " 0   ProductID   37765 non-null  int64 \n",
      " 1   CustomerID  37765 non-null  int64 \n",
      " 2   Rating      37765 non-null  int64 \n",
      " 3   Comment     37765 non-null  object\n",
      "dtypes: int64(3), object(1)\n",
      "memory usage: 1.2+ MB\n"
     ]
    }
   ],
   "source": [
    "reviews.info()  # Display DataFrame information"
   ]
  },
  {
   "cell_type": "code",
   "execution_count": 12,
   "metadata": {},
   "outputs": [],
   "source": [
    "reviews_5stars = reviews[reviews[\"Rating\"] == 5].sample(1500).reset_index(drop=True)\n",
    "reviews_4stars = reviews[reviews[\"Rating\"] == 4].sample(1000).reset_index(drop=True)\n",
    "reviews_3stars = reviews[reviews[\"Rating\"] == 3].sample(1439).reset_index(drop=True)\n",
    "reviews_2stars = reviews[reviews[\"Rating\"] == 2].sample(706).reset_index(drop=True)\n",
    "reviews_1star = reviews[reviews[\"Rating\"] == 1].sample(1060).reset_index(drop=True)"
   ]
  },
  {
   "cell_type": "code",
   "execution_count": 13,
   "metadata": {},
   "outputs": [],
   "source": [
    "# Add a new column 'Label'\n",
    "reviews_5stars['Label'] = ''\n",
    "reviews_4stars['Label'] = ''\n",
    "reviews_3stars['Label'] = ''\n",
    "reviews_2stars['Label'] = ''\n",
    "reviews_1star['Label'] = ''"
   ]
  },
  {
   "cell_type": "code",
   "execution_count": 14,
   "metadata": {},
   "outputs": [],
   "source": [
    "reviews_5stars.to_csv('../02.Dataset/labeled/reviews_5stars.csv', index=False)\n",
    "reviews_4stars.to_csv(\"../02.Dataset/labeled/reviews_4stars.csv\", index=False)\n",
    "reviews_3stars.to_csv(\"../02.Dataset/labeled/reviews_3stars.csv\", index=False)\n",
    "reviews_2stars.to_csv(\"../02.Dataset/labeled/reviews_2stars.csv\", index=False)\n",
    "reviews_1star.to_csv(\"../02.Dataset/labeled/reviews_1star.csv\", index=False)"
   ]
  },
  {
   "cell_type": "code",
   "execution_count": 15,
   "metadata": {},
   "outputs": [],
   "source": [
    "reviews_5stars = reviews[reviews[\"Rating\"] == 5].sample(1000).reset_index(drop=True)"
   ]
  },
  {
   "cell_type": "code",
   "execution_count": 16,
   "metadata": {},
   "outputs": [],
   "source": [
    "reviews_5stars['Label'] = 'pos'"
   ]
  },
  {
   "cell_type": "code",
   "execution_count": 17,
   "metadata": {},
   "outputs": [
    {
     "data": {
      "text/html": [
       "<div>\n",
       "<style scoped>\n",
       "    .dataframe tbody tr th:only-of-type {\n",
       "        vertical-align: middle;\n",
       "    }\n",
       "\n",
       "    .dataframe tbody tr th {\n",
       "        vertical-align: top;\n",
       "    }\n",
       "\n",
       "    .dataframe thead th {\n",
       "        text-align: right;\n",
       "    }\n",
       "</style>\n",
       "<table border=\"1\" class=\"dataframe\">\n",
       "  <thead>\n",
       "    <tr style=\"text-align: right;\">\n",
       "      <th></th>\n",
       "      <th>ProductID</th>\n",
       "      <th>CustomerID</th>\n",
       "      <th>Rating</th>\n",
       "      <th>Comment</th>\n",
       "      <th>Label</th>\n",
       "    </tr>\n",
       "  </thead>\n",
       "  <tbody>\n",
       "    <tr>\n",
       "      <th>0</th>\n",
       "      <td>189643105</td>\n",
       "      <td>17141782</td>\n",
       "      <td>5</td>\n",
       "      <td>Giao hàng cực nhanh! _x000D_\\r\\nNội dung chưa ...</td>\n",
       "      <td>pos</td>\n",
       "    </tr>\n",
       "    <tr>\n",
       "      <th>1</th>\n",
       "      <td>46789754</td>\n",
       "      <td>22754859</td>\n",
       "      <td>5</td>\n",
       "      <td>oo</td>\n",
       "      <td>pos</td>\n",
       "    </tr>\n",
       "    <tr>\n",
       "      <th>2</th>\n",
       "      <td>52785564</td>\n",
       "      <td>28451120</td>\n",
       "      <td>5</td>\n",
       "      <td>Sách bìa xinh</td>\n",
       "      <td>pos</td>\n",
       "    </tr>\n",
       "    <tr>\n",
       "      <th>3</th>\n",
       "      <td>74021317</td>\n",
       "      <td>18285357</td>\n",
       "      <td>5</td>\n",
       "      <td>Tốt</td>\n",
       "      <td>pos</td>\n",
       "    </tr>\n",
       "    <tr>\n",
       "      <th>4</th>\n",
       "      <td>8885995</td>\n",
       "      <td>6836236</td>\n",
       "      <td>5</td>\n",
       "      <td>Đây là 1 tác phẩm trinh thám, kinh dị rất kinh...</td>\n",
       "      <td>pos</td>\n",
       "    </tr>\n",
       "  </tbody>\n",
       "</table>\n",
       "</div>"
      ],
      "text/plain": [
       "   ProductID  CustomerID  Rating  \\\n",
       "0  189643105    17141782       5   \n",
       "1   46789754    22754859       5   \n",
       "2   52785564    28451120       5   \n",
       "3   74021317    18285357       5   \n",
       "4    8885995     6836236       5   \n",
       "\n",
       "                                             Comment Label  \n",
       "0  Giao hàng cực nhanh! _x000D_\\r\\nNội dung chưa ...   pos  \n",
       "1                                                 oo   pos  \n",
       "2                                      Sách bìa xinh   pos  \n",
       "3                                                Tốt   pos  \n",
       "4  Đây là 1 tác phẩm trinh thám, kinh dị rất kinh...   pos  "
      ]
     },
     "execution_count": 17,
     "metadata": {},
     "output_type": "execute_result"
    }
   ],
   "source": [
    "reviews_5stars.head()"
   ]
  },
  {
   "cell_type": "code",
   "execution_count": 18,
   "metadata": {},
   "outputs": [],
   "source": [
    "reviews_5stars.to_csv(\"../02.Dataset/labeled/reviews_5stars.csv\", index=False)"
   ]
  },
  {
   "cell_type": "markdown",
   "metadata": {},
   "source": [
    "### Labeled the dataset"
   ]
  },
  {
   "cell_type": "code",
   "execution_count": 36,
   "metadata": {},
   "outputs": [],
   "source": [
    "reviews_5stars = pd.read_csv(\"../02.Dataset/labeled/reviews_5stars.csv\")\n",
    "reviews_4stars = pd.read_csv(\"../02.Dataset/labeled/reviews_4stars.csv\")\n",
    "reviews_3stars = pd.read_csv(\"../02.Dataset/labeled/reviews_3stars.csv\")\n",
    "reviews_2stars = pd.read_csv(\"../02.Dataset/labeled/reviews_2stars.csv\")\n",
    "reviews_1star = pd.read_csv(\"../02.Dataset/labeled/reviews_1star.csv\")\n",
    "\n",
    "# Concatenate all DataFrames into one\n",
    "reviews = pd.concat([reviews_5stars, reviews_4stars, reviews_3stars, reviews_2stars, reviews_1star], ignore_index=True)"
   ]
  },
  {
   "cell_type": "code",
   "execution_count": 37,
   "metadata": {},
   "outputs": [],
   "source": [
    "reviews.dropna(subset=[\"Comment\"], inplace=True)\n",
    "reviews[\"Label\"] = reviews[\"Label\"].str.strip().str.replace(\"\\\\\", \"\", regex=False)"
   ]
  },
  {
   "cell_type": "code",
   "execution_count": 38,
   "metadata": {},
   "outputs": [],
   "source": [
    "reviews.dropna(subset=[\"Comment\"], inplace=True)\n",
    "reviews.dropna(subset=[\"Label\"], inplace=True)\n",
    "reviews.reset_index(drop=True, inplace=True)"
   ]
  },
  {
   "cell_type": "code",
   "execution_count": 39,
   "metadata": {},
   "outputs": [
    {
     "data": {
      "text/html": [
       "<div>\n",
       "<style scoped>\n",
       "    .dataframe tbody tr th:only-of-type {\n",
       "        vertical-align: middle;\n",
       "    }\n",
       "\n",
       "    .dataframe tbody tr th {\n",
       "        vertical-align: top;\n",
       "    }\n",
       "\n",
       "    .dataframe thead th {\n",
       "        text-align: right;\n",
       "    }\n",
       "</style>\n",
       "<table border=\"1\" class=\"dataframe\">\n",
       "  <thead>\n",
       "    <tr style=\"text-align: right;\">\n",
       "      <th></th>\n",
       "      <th>ProductID</th>\n",
       "      <th>CustomerID</th>\n",
       "      <th>Rating</th>\n",
       "      <th>Comment</th>\n",
       "      <th>Label</th>\n",
       "    </tr>\n",
       "  </thead>\n",
       "  <tbody>\n",
       "    <tr>\n",
       "      <th>0</th>\n",
       "      <td>74021317</td>\n",
       "      <td>7991785</td>\n",
       "      <td>5</td>\n",
       "      <td>Một quyển sách hay</td>\n",
       "      <td>pos</td>\n",
       "    </tr>\n",
       "    <tr>\n",
       "      <th>1</th>\n",
       "      <td>187827003</td>\n",
       "      <td>18150739</td>\n",
       "      <td>5</td>\n",
       "      <td>Mình đã từng đọc sơ nội dung sách, rất hay, rấ...</td>\n",
       "      <td>pos</td>\n",
       "    </tr>\n",
       "    <tr>\n",
       "      <th>2</th>\n",
       "      <td>271380890</td>\n",
       "      <td>497788</td>\n",
       "      <td>5</td>\n",
       "      <td>Quyển sách đẹp về hình thức, nội dung mới đọc ...</td>\n",
       "      <td>pos</td>\n",
       "    </tr>\n",
       "    <tr>\n",
       "      <th>3</th>\n",
       "      <td>74021317</td>\n",
       "      <td>19165924</td>\n",
       "      <td>5</td>\n",
       "      <td>Sách đẹp, hài lòng</td>\n",
       "      <td>pos</td>\n",
       "    </tr>\n",
       "    <tr>\n",
       "      <th>4</th>\n",
       "      <td>105483727</td>\n",
       "      <td>10170816</td>\n",
       "      <td>5</td>\n",
       "      <td>sách đóng gói cẩn thận, giao hành nhanh</td>\n",
       "      <td>pos</td>\n",
       "    </tr>\n",
       "  </tbody>\n",
       "</table>\n",
       "</div>"
      ],
      "text/plain": [
       "   ProductID  CustomerID  Rating  \\\n",
       "0   74021317     7991785       5   \n",
       "1  187827003    18150739       5   \n",
       "2  271380890      497788       5   \n",
       "3   74021317    19165924       5   \n",
       "4  105483727    10170816       5   \n",
       "\n",
       "                                             Comment Label  \n",
       "0                                 Một quyển sách hay   pos  \n",
       "1  Mình đã từng đọc sơ nội dung sách, rất hay, rấ...   pos  \n",
       "2  Quyển sách đẹp về hình thức, nội dung mới đọc ...   pos  \n",
       "3                                 Sách đẹp, hài lòng   pos  \n",
       "4            sách đóng gói cẩn thận, giao hành nhanh   pos  "
      ]
     },
     "execution_count": 39,
     "metadata": {},
     "output_type": "execute_result"
    }
   ],
   "source": [
    "reviews.head()"
   ]
  },
  {
   "cell_type": "code",
   "execution_count": 40,
   "metadata": {},
   "outputs": [
    {
     "data": {
      "text/plain": [
       "Label\n",
       "neg    2101\n",
       "pos    1923\n",
       "neu     356\n",
       "Name: count, dtype: int64"
      ]
     },
     "execution_count": 40,
     "metadata": {},
     "output_type": "execute_result"
    }
   ],
   "source": [
    "reviews['Label'].value_counts()"
   ]
  },
  {
   "cell_type": "code",
   "execution_count": 24,
   "metadata": {},
   "outputs": [],
   "source": [
    "reviews = reviews[reviews['Label'] != 'neu']"
   ]
  },
  {
   "cell_type": "code",
   "execution_count": 41,
   "metadata": {},
   "outputs": [
    {
     "data": {
      "text/plain": [
       "4380"
      ]
     },
     "execution_count": 41,
     "metadata": {},
     "output_type": "execute_result"
    }
   ],
   "source": [
    "len(reviews)"
   ]
  },
  {
   "cell_type": "code",
   "execution_count": 42,
   "metadata": {},
   "outputs": [],
   "source": [
    "reviews.to_csv(\"../02.Dataset/labeled/reviews.csv\", index=False)"
   ]
  },
  {
   "cell_type": "code",
   "execution_count": 43,
   "metadata": {},
   "outputs": [
    {
     "data": {
      "text/html": [
       "<div>\n",
       "<style scoped>\n",
       "    .dataframe tbody tr th:only-of-type {\n",
       "        vertical-align: middle;\n",
       "    }\n",
       "\n",
       "    .dataframe tbody tr th {\n",
       "        vertical-align: top;\n",
       "    }\n",
       "\n",
       "    .dataframe thead th {\n",
       "        text-align: right;\n",
       "    }\n",
       "</style>\n",
       "<table border=\"1\" class=\"dataframe\">\n",
       "  <thead>\n",
       "    <tr style=\"text-align: right;\">\n",
       "      <th></th>\n",
       "      <th>ProductID</th>\n",
       "      <th>CustomerID</th>\n",
       "      <th>Rating</th>\n",
       "      <th>Comment</th>\n",
       "      <th>Label</th>\n",
       "    </tr>\n",
       "  </thead>\n",
       "  <tbody>\n",
       "    <tr>\n",
       "      <th>0</th>\n",
       "      <td>74021317</td>\n",
       "      <td>7991785</td>\n",
       "      <td>5</td>\n",
       "      <td>Một quyển sách hay</td>\n",
       "      <td>pos</td>\n",
       "    </tr>\n",
       "  </tbody>\n",
       "</table>\n",
       "</div>"
      ],
      "text/plain": [
       "   ProductID  CustomerID  Rating             Comment Label\n",
       "0   74021317     7991785       5  Một quyển sách hay   pos"
      ]
     },
     "execution_count": 43,
     "metadata": {},
     "output_type": "execute_result"
    }
   ],
   "source": [
    "reviews.query(\"CustomerID == 7991785\").head(10)"
   ]
  },
  {
   "cell_type": "code",
   "execution_count": null,
   "metadata": {},
   "outputs": [],
   "source": []
  }
 ],
 "metadata": {
  "kernelspec": {
   "display_name": "Python 3",
   "language": "python",
   "name": "python3"
  },
  "language_info": {
   "codemirror_mode": {
    "name": "ipython",
    "version": 3
   },
   "file_extension": ".py",
   "mimetype": "text/x-python",
   "name": "python",
   "nbconvert_exporter": "python",
   "pygments_lexer": "ipython3",
   "version": "3.13.1"
  }
 },
 "nbformat": 4,
 "nbformat_minor": 2
}
